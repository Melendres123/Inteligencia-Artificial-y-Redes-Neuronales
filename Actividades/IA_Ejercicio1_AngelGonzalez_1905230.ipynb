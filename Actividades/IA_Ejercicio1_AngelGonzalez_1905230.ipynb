{
  "nbformat": 4,
  "nbformat_minor": 0,
  "metadata": {
    "colab": {
      "provenance": []
    },
    "kernelspec": {
      "name": "python3",
      "display_name": "Python 3"
    },
    "language_info": {
      "name": "python"
    }
  },
  "cells": [
    {
      "cell_type": "markdown",
      "source": [
        "*   Actividad 2-Ejercicos de Python 1\n",
        "*   Nombre: Angel Eduardo Gonzalez Melendres\n",
        "*   Matricula:1905230\n",
        "*   Carrera: IMTC\n",
        "*   Hora: N1\n",
        "\n"
      ],
      "metadata": {
        "id": "y2FNbW6zmYKj"
      }
    },
    {
      "cell_type": "code",
      "source": [
        "#Programa 1\n",
        "msg = input(\"Favor de ingresar su nombre: \")\n",
        "X = (\"Ana\", \"Juan\", \"Pedro\")\n",
        "if msg in X:\n",
        " print(\"No estas en la lista.\")\n",
        "else:\n",
        " print(\"Hola \" + msg)"
      ],
      "metadata": {
        "colab": {
          "base_uri": "https://localhost:8080/"
        },
        "id": "doBvidLgg8vt",
        "outputId": "526df9e9-a593-477f-f8fb-8d7babd69bf6"
      },
      "execution_count": null,
      "outputs": [
        {
          "output_type": "stream",
          "name": "stdout",
          "text": [
            "Favor de ingresar su nombre: Ana\n",
            "No estas en la lista.\n"
          ]
        }
      ]
    },
    {
      "cell_type": "code",
      "source": [
        "#Programa 1\n",
        "msg = input(\"Favor de ingresar su nombre: \")\n",
        "X = (\"Ana\", \"Juan\", \"Pedro\")\n",
        "if msg in X:\n",
        " print(\"No estas en la lista.\")\n",
        "else:\n",
        " print(\"Hola \" + msg)"
      ],
      "metadata": {
        "colab": {
          "base_uri": "https://localhost:8080/"
        },
        "id": "G1Ldm_k8KYhx",
        "outputId": "ea37d809-ff87-45b1-f362-11a9054ebf94"
      },
      "execution_count": 3,
      "outputs": [
        {
          "output_type": "stream",
          "name": "stdout",
          "text": [
            "Favor de ingresar su nombre: Angel\n",
            "Hola Angel\n"
          ]
        }
      ]
    },
    {
      "cell_type": "code",
      "source": [
        "#Programa 2\n",
        "def funcion(lista):\n",
        "  print(lista[-1])\n",
        "  inversa = lista[::-1]\n",
        "  print(inversa)\n",
        "\n",
        "ejemplo= [1,2,3,4,5,6,7,8,9]\n",
        "\n",
        "funcion(ejemplo)"
      ],
      "metadata": {
        "colab": {
          "base_uri": "https://localhost:8080/"
        },
        "id": "vZUsM-utkwDN",
        "outputId": "d2817a65-1578-4e3e-955d-7d399be08b1b"
      },
      "execution_count": 1,
      "outputs": [
        {
          "output_type": "stream",
          "name": "stdout",
          "text": [
            "9\n",
            "[9, 8, 7, 6, 5, 4, 3, 2, 1]\n"
          ]
        }
      ]
    },
    {
      "cell_type": "code",
      "source": [
        "#Programa 3\n",
        "def funcion(lista):\n",
        "  print(lista)\n",
        "\n",
        "lista = [\"*********\",\"* Hola  *\", \"* a     *\", \"* todos *\", \"* esto  *\", \"* es    *\", \"* un    *\", \"* marco *\",\"*********\"]\n",
        "i=0\n",
        "\n",
        "while i <= 8:\n",
        "  print(lista[i] )\n",
        "  i += 1"
      ],
      "metadata": {
        "colab": {
          "base_uri": "https://localhost:8080/"
        },
        "id": "wXJBGpW5li4z",
        "outputId": "2a51e17e-c718-4088-ce7a-0e73af59895c"
      },
      "execution_count": 2,
      "outputs": [
        {
          "output_type": "stream",
          "name": "stdout",
          "text": [
            "*********\n",
            "* Hola  *\n",
            "* a     *\n",
            "* todos *\n",
            "* esto  *\n",
            "* es    *\n",
            "* un    *\n",
            "* marco *\n",
            "*********\n"
          ]
        }
      ]
    }
  ]
}